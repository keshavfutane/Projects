{
 "cells": [
  {
   "cell_type": "markdown",
   "id": "b45f4349",
   "metadata": {},
   "source": [
    "# Read Dataset"
   ]
  },
  {
   "cell_type": "code",
   "execution_count": 1,
   "id": "92404c40",
   "metadata": {},
   "outputs": [],
   "source": [
    "import pandas as pd\n",
    "from warnings import filterwarnings\n",
    "filterwarnings(\"ignore\")\n",
    "\n",
    "trd = pd.read_csv(\"Desktop/training_set.csv\")\n",
    "tsd = pd.read_csv(\"Desktop/testing_set.csv\")"
   ]
  },
  {
   "cell_type": "code",
   "execution_count": 2,
   "id": "17f2699c",
   "metadata": {},
   "outputs": [
    {
     "data": {
      "text/html": [
       "<div>\n",
       "<style scoped>\n",
       "    .dataframe tbody tr th:only-of-type {\n",
       "        vertical-align: middle;\n",
       "    }\n",
       "\n",
       "    .dataframe tbody tr th {\n",
       "        vertical-align: top;\n",
       "    }\n",
       "\n",
       "    .dataframe thead th {\n",
       "        text-align: right;\n",
       "    }\n",
       "</style>\n",
       "<table border=\"1\" class=\"dataframe\">\n",
       "  <thead>\n",
       "    <tr style=\"text-align: right;\">\n",
       "      <th></th>\n",
       "      <th>Loan_ID</th>\n",
       "      <th>Gender</th>\n",
       "      <th>Married</th>\n",
       "      <th>Dependents</th>\n",
       "      <th>Education</th>\n",
       "      <th>Self_Employed</th>\n",
       "      <th>ApplicantIncome</th>\n",
       "      <th>CoapplicantIncome</th>\n",
       "      <th>LoanAmount</th>\n",
       "      <th>Loan_Amount_Term</th>\n",
       "      <th>Credit_History</th>\n",
       "      <th>Property_Area</th>\n",
       "      <th>Loan_Status</th>\n",
       "    </tr>\n",
       "  </thead>\n",
       "  <tbody>\n",
       "    <tr>\n",
       "      <th>0</th>\n",
       "      <td>LP001002</td>\n",
       "      <td>Male</td>\n",
       "      <td>No</td>\n",
       "      <td>0</td>\n",
       "      <td>Graduate</td>\n",
       "      <td>No</td>\n",
       "      <td>5849.0</td>\n",
       "      <td>0.0</td>\n",
       "      <td>NaN</td>\n",
       "      <td>360.0</td>\n",
       "      <td>1.0</td>\n",
       "      <td>Urban</td>\n",
       "      <td>Y</td>\n",
       "    </tr>\n",
       "    <tr>\n",
       "      <th>1</th>\n",
       "      <td>LP001003</td>\n",
       "      <td>Male</td>\n",
       "      <td>Yes</td>\n",
       "      <td>1</td>\n",
       "      <td>Graduate</td>\n",
       "      <td>No</td>\n",
       "      <td>NaN</td>\n",
       "      <td>1508.0</td>\n",
       "      <td>128.0</td>\n",
       "      <td>360.0</td>\n",
       "      <td>1.0</td>\n",
       "      <td>Rural</td>\n",
       "      <td>N</td>\n",
       "    </tr>\n",
       "  </tbody>\n",
       "</table>\n",
       "</div>"
      ],
      "text/plain": [
       "    Loan_ID Gender Married Dependents Education Self_Employed  \\\n",
       "0  LP001002   Male      No          0  Graduate            No   \n",
       "1  LP001003   Male     Yes          1  Graduate            No   \n",
       "\n",
       "   ApplicantIncome  CoapplicantIncome  LoanAmount  Loan_Amount_Term  \\\n",
       "0           5849.0                0.0         NaN             360.0   \n",
       "1              NaN             1508.0       128.0             360.0   \n",
       "\n",
       "   Credit_History Property_Area Loan_Status  \n",
       "0             1.0         Urban           Y  \n",
       "1             1.0         Rural           N  "
      ]
     },
     "execution_count": 2,
     "metadata": {},
     "output_type": "execute_result"
    }
   ],
   "source": [
    "trd.head(2)"
   ]
  },
  {
   "cell_type": "code",
   "execution_count": 3,
   "id": "2eefa990",
   "metadata": {},
   "outputs": [
    {
     "data": {
      "text/html": [
       "<div>\n",
       "<style scoped>\n",
       "    .dataframe tbody tr th:only-of-type {\n",
       "        vertical-align: middle;\n",
       "    }\n",
       "\n",
       "    .dataframe tbody tr th {\n",
       "        vertical-align: top;\n",
       "    }\n",
       "\n",
       "    .dataframe thead th {\n",
       "        text-align: right;\n",
       "    }\n",
       "</style>\n",
       "<table border=\"1\" class=\"dataframe\">\n",
       "  <thead>\n",
       "    <tr style=\"text-align: right;\">\n",
       "      <th></th>\n",
       "      <th>Loan_ID</th>\n",
       "      <th>Gender</th>\n",
       "      <th>Married</th>\n",
       "      <th>Dependents</th>\n",
       "      <th>Education</th>\n",
       "      <th>Self_Employed</th>\n",
       "      <th>ApplicantIncome</th>\n",
       "      <th>CoapplicantIncome</th>\n",
       "      <th>LoanAmount</th>\n",
       "      <th>Loan_Amount_Term</th>\n",
       "      <th>Credit_History</th>\n",
       "      <th>Property_Area</th>\n",
       "    </tr>\n",
       "  </thead>\n",
       "  <tbody>\n",
       "    <tr>\n",
       "      <th>0</th>\n",
       "      <td>LP001015</td>\n",
       "      <td>Male</td>\n",
       "      <td>Yes</td>\n",
       "      <td>0</td>\n",
       "      <td>Graduate</td>\n",
       "      <td>No</td>\n",
       "      <td>5720</td>\n",
       "      <td>0</td>\n",
       "      <td>110.0</td>\n",
       "      <td>360.0</td>\n",
       "      <td>1.0</td>\n",
       "      <td>Urban</td>\n",
       "    </tr>\n",
       "    <tr>\n",
       "      <th>1</th>\n",
       "      <td>LP001022</td>\n",
       "      <td>Male</td>\n",
       "      <td>Yes</td>\n",
       "      <td>1</td>\n",
       "      <td>Graduate</td>\n",
       "      <td>No</td>\n",
       "      <td>3076</td>\n",
       "      <td>1500</td>\n",
       "      <td>126.0</td>\n",
       "      <td>360.0</td>\n",
       "      <td>1.0</td>\n",
       "      <td>Urban</td>\n",
       "    </tr>\n",
       "  </tbody>\n",
       "</table>\n",
       "</div>"
      ],
      "text/plain": [
       "    Loan_ID Gender Married Dependents Education Self_Employed  \\\n",
       "0  LP001015   Male     Yes          0  Graduate            No   \n",
       "1  LP001022   Male     Yes          1  Graduate            No   \n",
       "\n",
       "   ApplicantIncome  CoapplicantIncome  LoanAmount  Loan_Amount_Term  \\\n",
       "0             5720                  0       110.0             360.0   \n",
       "1             3076               1500       126.0             360.0   \n",
       "\n",
       "   Credit_History Property_Area  \n",
       "0             1.0         Urban  \n",
       "1             1.0         Urban  "
      ]
     },
     "execution_count": 3,
     "metadata": {},
     "output_type": "execute_result"
    }
   ],
   "source": [
    "tsd.head(2)"
   ]
  },
  {
   "cell_type": "markdown",
   "id": "41f5a257",
   "metadata": {},
   "source": [
    "# Profiling"
   ]
  },
  {
   "cell_type": "code",
   "execution_count": 4,
   "id": "564eba50",
   "metadata": {},
   "outputs": [
    {
     "name": "stdout",
     "output_type": "stream",
     "text": [
      "<class 'pandas.core.frame.DataFrame'>\n",
      "RangeIndex: 614 entries, 0 to 613\n",
      "Data columns (total 13 columns):\n",
      " #   Column             Non-Null Count  Dtype  \n",
      "---  ------             --------------  -----  \n",
      " 0   Loan_ID            614 non-null    object \n",
      " 1   Gender             599 non-null    object \n",
      " 2   Married            611 non-null    object \n",
      " 3   Dependents         599 non-null    object \n",
      " 4   Education          613 non-null    object \n",
      " 5   Self_Employed      582 non-null    object \n",
      " 6   ApplicantIncome    612 non-null    float64\n",
      " 7   CoapplicantIncome  613 non-null    float64\n",
      " 8   LoanAmount         592 non-null    float64\n",
      " 9   Loan_Amount_Term   600 non-null    float64\n",
      " 10  Credit_History     564 non-null    float64\n",
      " 11  Property_Area      614 non-null    object \n",
      " 12  Loan_Status        614 non-null    object \n",
      "dtypes: float64(5), object(8)\n",
      "memory usage: 62.5+ KB\n"
     ]
    }
   ],
   "source": [
    "trd.info()"
   ]
  },
  {
   "cell_type": "code",
   "execution_count": 5,
   "id": "827e2618",
   "metadata": {},
   "outputs": [],
   "source": [
    "Q = trd.nunique().sort_values()\n",
    "Q1 = list(Q[Q<11].index)"
   ]
  },
  {
   "cell_type": "code",
   "execution_count": 6,
   "id": "f02eda89",
   "metadata": {},
   "outputs": [
    {
     "data": {
      "text/html": [
       "<div>\n",
       "<style scoped>\n",
       "    .dataframe tbody tr th:only-of-type {\n",
       "        vertical-align: middle;\n",
       "    }\n",
       "\n",
       "    .dataframe tbody tr th {\n",
       "        vertical-align: top;\n",
       "    }\n",
       "\n",
       "    .dataframe thead th {\n",
       "        text-align: right;\n",
       "    }\n",
       "</style>\n",
       "<table border=\"1\" class=\"dataframe\">\n",
       "  <thead>\n",
       "    <tr style=\"text-align: right;\">\n",
       "      <th></th>\n",
       "      <th>Gender</th>\n",
       "      <th>Married</th>\n",
       "      <th>Education</th>\n",
       "      <th>Self_Employed</th>\n",
       "      <th>Credit_History</th>\n",
       "      <th>Loan_Status</th>\n",
       "      <th>Property_Area</th>\n",
       "      <th>Dependents</th>\n",
       "      <th>Loan_Amount_Term</th>\n",
       "    </tr>\n",
       "  </thead>\n",
       "  <tbody>\n",
       "    <tr>\n",
       "      <th>0</th>\n",
       "      <td>Male</td>\n",
       "      <td>No</td>\n",
       "      <td>Graduate</td>\n",
       "      <td>No</td>\n",
       "      <td>1.0</td>\n",
       "      <td>Y</td>\n",
       "      <td>Urban</td>\n",
       "      <td>0</td>\n",
       "      <td>360.0</td>\n",
       "    </tr>\n",
       "    <tr>\n",
       "      <th>1</th>\n",
       "      <td>Male</td>\n",
       "      <td>Yes</td>\n",
       "      <td>Graduate</td>\n",
       "      <td>No</td>\n",
       "      <td>1.0</td>\n",
       "      <td>N</td>\n",
       "      <td>Rural</td>\n",
       "      <td>1</td>\n",
       "      <td>360.0</td>\n",
       "    </tr>\n",
       "    <tr>\n",
       "      <th>2</th>\n",
       "      <td>Male</td>\n",
       "      <td>Yes</td>\n",
       "      <td>Graduate</td>\n",
       "      <td>Yes</td>\n",
       "      <td>1.0</td>\n",
       "      <td>Y</td>\n",
       "      <td>Urban</td>\n",
       "      <td>0</td>\n",
       "      <td>360.0</td>\n",
       "    </tr>\n",
       "    <tr>\n",
       "      <th>3</th>\n",
       "      <td>Male</td>\n",
       "      <td>Yes</td>\n",
       "      <td>Not Graduate</td>\n",
       "      <td>No</td>\n",
       "      <td>1.0</td>\n",
       "      <td>Y</td>\n",
       "      <td>Urban</td>\n",
       "      <td>0</td>\n",
       "      <td>360.0</td>\n",
       "    </tr>\n",
       "    <tr>\n",
       "      <th>4</th>\n",
       "      <td>Male</td>\n",
       "      <td>No</td>\n",
       "      <td>Graduate</td>\n",
       "      <td>No</td>\n",
       "      <td>1.0</td>\n",
       "      <td>Y</td>\n",
       "      <td>Urban</td>\n",
       "      <td>0</td>\n",
       "      <td>360.0</td>\n",
       "    </tr>\n",
       "  </tbody>\n",
       "</table>\n",
       "</div>"
      ],
      "text/plain": [
       "  Gender Married     Education Self_Employed  Credit_History Loan_Status  \\\n",
       "0   Male      No      Graduate            No             1.0           Y   \n",
       "1   Male     Yes      Graduate            No             1.0           N   \n",
       "2   Male     Yes      Graduate           Yes             1.0           Y   \n",
       "3   Male     Yes  Not Graduate            No             1.0           Y   \n",
       "4   Male      No      Graduate            No             1.0           Y   \n",
       "\n",
       "  Property_Area Dependents  Loan_Amount_Term  \n",
       "0         Urban          0             360.0  \n",
       "1         Rural          1             360.0  \n",
       "2         Urban          0             360.0  \n",
       "3         Urban          0             360.0  \n",
       "4         Urban          0             360.0  "
      ]
     },
     "execution_count": 6,
     "metadata": {},
     "output_type": "execute_result"
    }
   ],
   "source": [
    "trd[Q1].head()"
   ]
  },
  {
   "cell_type": "markdown",
   "id": "e9abe517",
   "metadata": {},
   "source": [
    "# Missing Data treatment"
   ]
  },
  {
   "cell_type": "code",
   "execution_count": 7,
   "id": "623e463a",
   "metadata": {},
   "outputs": [
    {
     "data": {
      "text/plain": [
       "Gender               15\n",
       "Married               3\n",
       "Dependents           15\n",
       "Education             1\n",
       "Self_Employed        32\n",
       "ApplicantIncome       2\n",
       "CoapplicantIncome     1\n",
       "LoanAmount           22\n",
       "Loan_Amount_Term     14\n",
       "Credit_History       50\n",
       "dtype: int64"
      ]
     },
     "execution_count": 7,
     "metadata": {},
     "output_type": "execute_result"
    }
   ],
   "source": [
    "Q = trd.isna().sum()\n",
    "Q[Q>0]"
   ]
  },
  {
   "cell_type": "code",
   "execution_count": 8,
   "id": "a2a83fd8",
   "metadata": {},
   "outputs": [
    {
     "data": {
      "text/plain": [
       "Gender              11\n",
       "Dependents          10\n",
       "Self_Employed       23\n",
       "LoanAmount           5\n",
       "Loan_Amount_Term     6\n",
       "Credit_History      29\n",
       "dtype: int64"
      ]
     },
     "execution_count": 8,
     "metadata": {},
     "output_type": "execute_result"
    }
   ],
   "source": [
    "Q = tsd.isna().sum()\n",
    "Q[Q>0]"
   ]
  },
  {
   "cell_type": "code",
   "execution_count": 9,
   "id": "a775654b",
   "metadata": {},
   "outputs": [],
   "source": [
    "cat = []\n",
    "con = []\n",
    "for i in trd.columns:\n",
    "    if(trd[i].dtypes == \"object\"):\n",
    "        cat.append(i)\n",
    "    else:\n",
    "        con.append(i)"
   ]
  },
  {
   "cell_type": "code",
   "execution_count": 10,
   "id": "6ac8cd1d",
   "metadata": {},
   "outputs": [
    {
     "data": {
      "text/plain": [
       "['Loan_ID',\n",
       " 'Gender',\n",
       " 'Married',\n",
       " 'Dependents',\n",
       " 'Education',\n",
       " 'Self_Employed',\n",
       " 'Property_Area',\n",
       " 'Loan_Status']"
      ]
     },
     "execution_count": 10,
     "metadata": {},
     "output_type": "execute_result"
    }
   ],
   "source": [
    "cat"
   ]
  },
  {
   "cell_type": "code",
   "execution_count": 11,
   "id": "53e989ea",
   "metadata": {},
   "outputs": [
    {
     "data": {
      "text/plain": [
       "['ApplicantIncome',\n",
       " 'CoapplicantIncome',\n",
       " 'LoanAmount',\n",
       " 'Loan_Amount_Term',\n",
       " 'Credit_History']"
      ]
     },
     "execution_count": 11,
     "metadata": {},
     "output_type": "execute_result"
    }
   ],
   "source": [
    "con"
   ]
  },
  {
   "cell_type": "code",
   "execution_count": 12,
   "id": "51e02309",
   "metadata": {},
   "outputs": [
    {
     "data": {
      "text/plain": [
       "Loan_ID          614\n",
       "Gender             2\n",
       "Married            2\n",
       "Dependents         4\n",
       "Education          2\n",
       "Self_Employed      2\n",
       "Property_Area      3\n",
       "Loan_Status        2\n",
       "dtype: int64"
      ]
     },
     "execution_count": 12,
     "metadata": {},
     "output_type": "execute_result"
    }
   ],
   "source": [
    "trd[cat].nunique()"
   ]
  },
  {
   "cell_type": "code",
   "execution_count": 13,
   "id": "2d1ce063",
   "metadata": {},
   "outputs": [
    {
     "data": {
      "text/plain": [
       "ApplicantIncome      504\n",
       "CoapplicantIncome    286\n",
       "LoanAmount           203\n",
       "Loan_Amount_Term      10\n",
       "Credit_History         2\n",
       "dtype: int64"
      ]
     },
     "execution_count": 13,
     "metadata": {},
     "output_type": "execute_result"
    }
   ],
   "source": [
    "trd[con].nunique()"
   ]
  },
  {
   "cell_type": "code",
   "execution_count": 14,
   "id": "097d4c22",
   "metadata": {},
   "outputs": [],
   "source": [
    "con.remove(\"Credit_History\")\n",
    "cat.append(\"Credit_History\")"
   ]
  },
  {
   "cell_type": "code",
   "execution_count": 15,
   "id": "b91bca63",
   "metadata": {},
   "outputs": [],
   "source": [
    "for i in con:\n",
    "    x = trd[i].mean()\n",
    "    trd[i]=trd[i].fillna(x)\n",
    "    tsd[i]=tsd[i].fillna(x)"
   ]
  },
  {
   "cell_type": "code",
   "execution_count": 16,
   "id": "273437c8",
   "metadata": {},
   "outputs": [],
   "source": [
    "for i in cat:\n",
    "    x = trd[i].mode()[0]\n",
    "    trd[i]=trd[i].fillna(x)\n",
    "    if(i!=\"Loan_Status\"):\n",
    "        tsd[i]=tsd[i].fillna(x)"
   ]
  },
  {
   "cell_type": "code",
   "execution_count": 17,
   "id": "a3d74f16",
   "metadata": {},
   "outputs": [
    {
     "data": {
      "text/plain": [
       "Series([], dtype: int64)"
      ]
     },
     "execution_count": 17,
     "metadata": {},
     "output_type": "execute_result"
    }
   ],
   "source": [
    "Q = trd.isna().sum()\n",
    "Q[Q>0]"
   ]
  },
  {
   "cell_type": "code",
   "execution_count": 18,
   "id": "a7842448",
   "metadata": {},
   "outputs": [
    {
     "data": {
      "text/plain": [
       "Series([], dtype: int64)"
      ]
     },
     "execution_count": 18,
     "metadata": {},
     "output_type": "execute_result"
    }
   ],
   "source": [
    "Q = tsd.isna().sum()\n",
    "Q[Q>0]"
   ]
  },
  {
   "cell_type": "markdown",
   "id": "90c55347",
   "metadata": {},
   "source": [
    "# Outliers\n"
   ]
  },
  {
   "cell_type": "code",
   "execution_count": 19,
   "id": "7b364e16",
   "metadata": {},
   "outputs": [],
   "source": [
    "from sklearn.preprocessing import StandardScaler\n",
    "ss = StandardScaler()\n",
    "Q = pd.DataFrame(ss.fit_transform(trd[con]),columns=con)"
   ]
  },
  {
   "cell_type": "code",
   "execution_count": 20,
   "id": "1466af64",
   "metadata": {},
   "outputs": [],
   "source": [
    "out = []\n",
    "for i in con:\n",
    "    out = out + list(Q[(Q[i]>3)|(Q[i]<-3)].index)"
   ]
  },
  {
   "cell_type": "code",
   "execution_count": 21,
   "id": "021f6d4b",
   "metadata": {},
   "outputs": [],
   "source": [
    "from numpy import unique\n",
    "outliers = list(unique(out))"
   ]
  },
  {
   "cell_type": "code",
   "execution_count": 22,
   "id": "3cc66b37",
   "metadata": {},
   "outputs": [],
   "source": [
    "trd = trd.drop(index=outliers,axis=0)"
   ]
  },
  {
   "cell_type": "code",
   "execution_count": 23,
   "id": "8176977f",
   "metadata": {},
   "outputs": [
    {
     "data": {
      "text/plain": [
       "(577, 13)"
      ]
     },
     "execution_count": 23,
     "metadata": {},
     "output_type": "execute_result"
    }
   ],
   "source": [
    "trd.shape"
   ]
  },
  {
   "cell_type": "code",
   "execution_count": 24,
   "id": "eca9946f",
   "metadata": {},
   "outputs": [],
   "source": [
    "trd.index = range(0,577,1)"
   ]
  },
  {
   "cell_type": "markdown",
   "id": "b58cba28",
   "metadata": {},
   "source": [
    "# EDA"
   ]
  },
  {
   "cell_type": "code",
   "execution_count": 25,
   "id": "e08005e1",
   "metadata": {},
   "outputs": [],
   "source": [
    "def ANOVA(df,cat,con):\n",
    "    from statsmodels.formula.api import ols\n",
    "    eqn = str(con) + \" ~ \" + str(cat)\n",
    "    model = ols(eqn,df).fit()\n",
    "    from statsmodels.stats.anova import anova_lm\n",
    "    Q = anova_lm(model)\n",
    "    return round(Q.iloc[0:1,4:5].values[0][0],5)\n",
    "\n",
    "def chisq(df,cat1,cat2):\n",
    "    import pandas as pd\n",
    "    from scipy.stats import chi2_contingency\n",
    "    ct = pd.crosstab(df[cat1],df[cat2])\n",
    "    a,b,c,d = chi2_contingency(ct)\n",
    "    return round(b,5)"
   ]
  },
  {
   "cell_type": "code",
   "execution_count": 26,
   "id": "4f761956",
   "metadata": {},
   "outputs": [
    {
     "name": "stdout",
     "output_type": "stream",
     "text": [
      "Loan_Status vs ApplicantIncome -----> pval = 0.89434\n",
      "Loan_Status vs CoapplicantIncome -----> pval = 0.28206\n",
      "Loan_Status vs LoanAmount -----> pval = 0.3975\n",
      "Loan_Status vs Loan_Amount_Term -----> pval = 0.66362\n"
     ]
    }
   ],
   "source": [
    "for i in con:\n",
    "    pval = ANOVA(trd,'Loan_Status',i)\n",
    "    print(\"Loan_Status vs\",i,\"-----> pval =\",pval)"
   ]
  },
  {
   "cell_type": "code",
   "execution_count": 27,
   "id": "ae6e2cc8",
   "metadata": {},
   "outputs": [
    {
     "name": "stdout",
     "output_type": "stream",
     "text": [
      "Loan_Status vs Married -----> pval = 0.04094\n",
      "Loan_Status vs Education -----> pval = 0.03415\n",
      "Loan_Status vs Property_Area -----> pval = 0.00232\n",
      "Loan_Status vs Credit_History -----> pval = 0.0\n"
     ]
    }
   ],
   "source": [
    "for i in cat:\n",
    "    pval = chisq(trd,'Loan_Status',i)\n",
    "    if(pval<0.05 and i!='Loan_Status'):\n",
    "        print(\"Loan_Status vs\",i,\"-----> pval =\",pval)"
   ]
  },
  {
   "cell_type": "markdown",
   "id": "c1d55fa8",
   "metadata": {},
   "source": [
    "# Preprocessing and Data preparation"
   ]
  },
  {
   "cell_type": "code",
   "execution_count": 28,
   "id": "23309a1f",
   "metadata": {},
   "outputs": [],
   "source": [
    "X = trd[[\"CoapplicantIncome\",\"Married\",\"Education\",\"Property_Area\",\"Credit_History\"]]\n",
    "Y = trd[[\"Loan_Status\"]]\n",
    "from sklearn.preprocessing import StandardScaler\n",
    "ss = StandardScaler()\n",
    "X1 = pd.DataFrame(ss.fit_transform(X[[\"CoapplicantIncome\"]]),columns=[\"CoapplicantIncome\"])\n",
    "X2 = pd.get_dummies(X[[\"Married\",\"Education\",\"Property_Area\",\"Credit_History\"]])\n",
    "Xnew = X1.join(X2)\n",
    "from sklearn.model_selection import train_test_split\n",
    "xtrain,xtest,ytrain,ytest=train_test_split(Xnew,Y,test_size=0.2,random_state=21)"
   ]
  },
  {
   "cell_type": "markdown",
   "id": "fcc40355",
   "metadata": {},
   "source": [
    "# Model 1"
   ]
  },
  {
   "cell_type": "code",
   "execution_count": 29,
   "id": "c32a62f1",
   "metadata": {},
   "outputs": [],
   "source": [
    "def modeller(mo):\n",
    "    model = mo.fit(xtrain,ytrain)\n",
    "    pred_tr = model.predict(xtrain)\n",
    "    pred_ts = model.predict(xtest)\n",
    "    from sklearn.metrics import accuracy_score\n",
    "    tr_acc = round(accuracy_score(ytrain,pred_tr),2)\n",
    "    ts_acc = round(accuracy_score(ytest,pred_ts),2)\n",
    "    return tr_acc,ts_acc"
   ]
  },
  {
   "cell_type": "code",
   "execution_count": 30,
   "id": "1ff7a1c5",
   "metadata": {},
   "outputs": [
    {
     "data": {
      "text/plain": [
       "(0.81, 0.84)"
      ]
     },
     "execution_count": 30,
     "metadata": {},
     "output_type": "execute_result"
    }
   ],
   "source": [
    "from sklearn.linear_model import LogisticRegression\n",
    "lr = LogisticRegression()\n",
    "modeller(lr)"
   ]
  },
  {
   "cell_type": "markdown",
   "id": "664c0a5a",
   "metadata": {},
   "source": [
    "# Model 2"
   ]
  },
  {
   "cell_type": "code",
   "execution_count": 31,
   "id": "efd6cc30",
   "metadata": {},
   "outputs": [
    {
     "data": {
      "text/plain": [
       "(0.9, 0.72)"
      ]
     },
     "execution_count": 31,
     "metadata": {},
     "output_type": "execute_result"
    }
   ],
   "source": [
    "from sklearn.tree import DecisionTreeClassifier\n",
    "dtc = DecisionTreeClassifier(random_state=11)\n",
    "modeller(dtc)"
   ]
  },
  {
   "cell_type": "code",
   "execution_count": 32,
   "id": "5353f5e8",
   "metadata": {},
   "outputs": [
    {
     "data": {
      "text/plain": [
       "(0.81, 0.84)"
      ]
     },
     "execution_count": 32,
     "metadata": {},
     "output_type": "execute_result"
    }
   ],
   "source": [
    "from sklearn.tree import DecisionTreeClassifier\n",
    "dtc = DecisionTreeClassifier(random_state=11,max_depth=2)\n",
    "modeller(dtc)"
   ]
  },
  {
   "cell_type": "code",
   "execution_count": 33,
   "id": "5911ec66",
   "metadata": {},
   "outputs": [
    {
     "data": {
      "text/plain": [
       "(0.81, 0.84)"
      ]
     },
     "execution_count": 33,
     "metadata": {},
     "output_type": "execute_result"
    }
   ],
   "source": [
    "from sklearn.tree import DecisionTreeClassifier\n",
    "dtc = DecisionTreeClassifier(random_state=11,max_depth=3)\n",
    "modeller(dtc)"
   ]
  },
  {
   "cell_type": "code",
   "execution_count": 34,
   "id": "fdfe6b4e",
   "metadata": {},
   "outputs": [
    {
     "data": {
      "text/plain": [
       "(0.82, 0.78)"
      ]
     },
     "execution_count": 34,
     "metadata": {},
     "output_type": "execute_result"
    }
   ],
   "source": [
    "from sklearn.tree import DecisionTreeClassifier\n",
    "dtc = DecisionTreeClassifier(random_state=11,max_depth=4)\n",
    "modeller(dtc)"
   ]
  },
  {
   "cell_type": "code",
   "execution_count": 35,
   "id": "4d1ac278",
   "metadata": {},
   "outputs": [
    {
     "data": {
      "text/plain": [
       "(0.89, 0.78)"
      ]
     },
     "execution_count": 35,
     "metadata": {},
     "output_type": "execute_result"
    }
   ],
   "source": [
    "from sklearn.ensemble import RandomForestClassifier\n",
    "rfc = RandomForestClassifier(n_estimators=20)\n",
    "modeller(rfc)"
   ]
  },
  {
   "cell_type": "code",
   "execution_count": 36,
   "id": "ed903c17",
   "metadata": {},
   "outputs": [
    {
     "data": {
      "text/plain": [
       "(0.81, 0.84)"
      ]
     },
     "execution_count": 36,
     "metadata": {},
     "output_type": "execute_result"
    }
   ],
   "source": [
    "from sklearn.ensemble import RandomForestClassifier\n",
    "rfc = RandomForestClassifier(n_estimators=20,max_depth=2)\n",
    "modeller(rfc)"
   ]
  },
  {
   "cell_type": "code",
   "execution_count": 37,
   "id": "bf9c1520",
   "metadata": {},
   "outputs": [
    {
     "data": {
      "text/plain": [
       "(0.81, 0.84)"
      ]
     },
     "execution_count": 37,
     "metadata": {},
     "output_type": "execute_result"
    }
   ],
   "source": [
    "from sklearn.ensemble import RandomForestClassifier\n",
    "rfc = RandomForestClassifier(n_estimators=20,max_depth=3)\n",
    "modeller(rfc)"
   ]
  },
  {
   "cell_type": "markdown",
   "id": "3c47ae0a",
   "metadata": {},
   "source": [
    "# Part 3"
   ]
  },
  {
   "cell_type": "code",
   "execution_count": 38,
   "id": "3868d278",
   "metadata": {},
   "outputs": [
    {
     "data": {
      "text/html": [
       "<div>\n",
       "<style scoped>\n",
       "    .dataframe tbody tr th:only-of-type {\n",
       "        vertical-align: middle;\n",
       "    }\n",
       "\n",
       "    .dataframe tbody tr th {\n",
       "        vertical-align: top;\n",
       "    }\n",
       "\n",
       "    .dataframe thead th {\n",
       "        text-align: right;\n",
       "    }\n",
       "</style>\n",
       "<table border=\"1\" class=\"dataframe\">\n",
       "  <thead>\n",
       "    <tr style=\"text-align: right;\">\n",
       "      <th></th>\n",
       "      <th>Loan_ID</th>\n",
       "      <th>Gender</th>\n",
       "      <th>Married</th>\n",
       "      <th>Dependents</th>\n",
       "      <th>Education</th>\n",
       "      <th>Self_Employed</th>\n",
       "      <th>ApplicantIncome</th>\n",
       "      <th>CoapplicantIncome</th>\n",
       "      <th>LoanAmount</th>\n",
       "      <th>Loan_Amount_Term</th>\n",
       "      <th>Credit_History</th>\n",
       "      <th>Property_Area</th>\n",
       "      <th>Loan_Status</th>\n",
       "    </tr>\n",
       "  </thead>\n",
       "  <tbody>\n",
       "    <tr>\n",
       "      <th>0</th>\n",
       "      <td>LP001002</td>\n",
       "      <td>Male</td>\n",
       "      <td>No</td>\n",
       "      <td>0</td>\n",
       "      <td>Graduate</td>\n",
       "      <td>No</td>\n",
       "      <td>5849.00000</td>\n",
       "      <td>0.0</td>\n",
       "      <td>146.412162</td>\n",
       "      <td>360.0</td>\n",
       "      <td>1.0</td>\n",
       "      <td>Urban</td>\n",
       "      <td>Y</td>\n",
       "    </tr>\n",
       "    <tr>\n",
       "      <th>1</th>\n",
       "      <td>LP001003</td>\n",
       "      <td>Male</td>\n",
       "      <td>Yes</td>\n",
       "      <td>1</td>\n",
       "      <td>Graduate</td>\n",
       "      <td>No</td>\n",
       "      <td>5405.54085</td>\n",
       "      <td>1508.0</td>\n",
       "      <td>128.000000</td>\n",
       "      <td>360.0</td>\n",
       "      <td>1.0</td>\n",
       "      <td>Rural</td>\n",
       "      <td>N</td>\n",
       "    </tr>\n",
       "  </tbody>\n",
       "</table>\n",
       "</div>"
      ],
      "text/plain": [
       "    Loan_ID Gender Married Dependents Education Self_Employed  \\\n",
       "0  LP001002   Male      No          0  Graduate            No   \n",
       "1  LP001003   Male     Yes          1  Graduate            No   \n",
       "\n",
       "   ApplicantIncome  CoapplicantIncome  LoanAmount  Loan_Amount_Term  \\\n",
       "0       5849.00000                0.0  146.412162             360.0   \n",
       "1       5405.54085             1508.0  128.000000             360.0   \n",
       "\n",
       "   Credit_History Property_Area Loan_Status  \n",
       "0             1.0         Urban           Y  \n",
       "1             1.0         Rural           N  "
      ]
     },
     "execution_count": 38,
     "metadata": {},
     "output_type": "execute_result"
    }
   ],
   "source": [
    "trd.head(2)"
   ]
  },
  {
   "cell_type": "code",
   "execution_count": 39,
   "id": "a4bd8b98",
   "metadata": {},
   "outputs": [],
   "source": [
    "X = trd.drop(labels=[\"Loan_ID\",\"Loan_Status\"],axis=1)\n",
    "cat = []\n",
    "con = []\n",
    "for i in X.columns:\n",
    "    if(X[i].dtypes == \"object\"):\n",
    "        cat.append(i)\n",
    "    else:\n",
    "        con.append(i)\n",
    "        \n",
    "Y = trd[[\"Loan_Status\"]]\n",
    "from sklearn.preprocessing import StandardScaler\n",
    "ss = StandardScaler()\n",
    "X1 = pd.DataFrame(ss.fit_transform(X[con]),columns=con)\n",
    "X2 = pd.get_dummies(X[cat])\n",
    "Xnew = X1.join(X2)\n",
    "from sklearn.model_selection import train_test_split\n",
    "xtrain,xtest,ytrain,ytest=train_test_split(Xnew,Y,test_size=0.2,random_state=21)"
   ]
  },
  {
   "cell_type": "code",
   "execution_count": 40,
   "id": "fdd84fae",
   "metadata": {},
   "outputs": [
    {
     "data": {
      "text/plain": [
       "(1.0, 0.71)"
      ]
     },
     "execution_count": 40,
     "metadata": {},
     "output_type": "execute_result"
    }
   ],
   "source": [
    "from sklearn.tree import DecisionTreeClassifier\n",
    "dtc = DecisionTreeClassifier(random_state=11)\n",
    "modeller(dtc)"
   ]
  },
  {
   "cell_type": "code",
   "execution_count": 41,
   "id": "ee82ad8b",
   "metadata": {},
   "outputs": [
    {
     "data": {
      "text/plain": [
       "(0.81, 0.84)"
      ]
     },
     "execution_count": 41,
     "metadata": {},
     "output_type": "execute_result"
    }
   ],
   "source": [
    "from sklearn.tree import DecisionTreeClassifier\n",
    "dtc = DecisionTreeClassifier(random_state=11,max_depth=2)\n",
    "modeller(dtc)"
   ]
  },
  {
   "cell_type": "code",
   "execution_count": 42,
   "id": "59fd76f6",
   "metadata": {},
   "outputs": [
    {
     "data": {
      "text/plain": [
       "(0.83, 0.83)"
      ]
     },
     "execution_count": 42,
     "metadata": {},
     "output_type": "execute_result"
    }
   ],
   "source": [
    "from sklearn.tree import DecisionTreeClassifier\n",
    "dtc = DecisionTreeClassifier(random_state=11,max_depth=3)\n",
    "modeller(dtc)"
   ]
  },
  {
   "cell_type": "code",
   "execution_count": 43,
   "id": "54a8721c",
   "metadata": {},
   "outputs": [
    {
     "data": {
      "text/plain": [
       "(1.0, 0.8)"
      ]
     },
     "execution_count": 43,
     "metadata": {},
     "output_type": "execute_result"
    }
   ],
   "source": [
    "from sklearn.ensemble import RandomForestClassifier\n",
    "rfc = RandomForestClassifier(n_estimators=20)\n",
    "modeller(rfc)"
   ]
  },
  {
   "cell_type": "code",
   "execution_count": 44,
   "id": "4d8ea81e",
   "metadata": {},
   "outputs": [
    {
     "data": {
      "text/plain": [
       "(0.81, 0.84)"
      ]
     },
     "execution_count": 44,
     "metadata": {},
     "output_type": "execute_result"
    }
   ],
   "source": [
    "from sklearn.ensemble import RandomForestClassifier\n",
    "rfc = RandomForestClassifier(n_estimators=20,max_depth=3)\n",
    "modeller(rfc)"
   ]
  },
  {
   "cell_type": "code",
   "execution_count": 45,
   "id": "7756348e",
   "metadata": {},
   "outputs": [
    {
     "data": {
      "text/plain": [
       "(0.97, 0.72)"
      ]
     },
     "execution_count": 45,
     "metadata": {},
     "output_type": "execute_result"
    }
   ],
   "source": [
    "from sklearn.ensemble import AdaBoostClassifier\n",
    "abc = AdaBoostClassifier(DecisionTreeClassifier(max_depth=2),n_estimators=40)\n",
    "modeller(abc)"
   ]
  },
  {
   "cell_type": "code",
   "execution_count": 46,
   "id": "e0a5b69a",
   "metadata": {},
   "outputs": [
    {
     "data": {
      "text/plain": [
       "(0.83, 0.83)"
      ]
     },
     "execution_count": 46,
     "metadata": {},
     "output_type": "execute_result"
    }
   ],
   "source": [
    "from sklearn.neighbors import KNeighborsClassifier\n",
    "knc = KNeighborsClassifier()\n",
    "modeller(knc)"
   ]
  },
  {
   "cell_type": "code",
   "execution_count": 47,
   "id": "b9644bbf",
   "metadata": {},
   "outputs": [
    {
     "data": {
      "text/plain": [
       "(0.9, 0.67)"
      ]
     },
     "execution_count": 47,
     "metadata": {},
     "output_type": "execute_result"
    }
   ],
   "source": [
    "from sklearn.neighbors import KNeighborsClassifier\n",
    "knc = KNeighborsClassifier(n_neighbors=2)\n",
    "modeller(knc)"
   ]
  },
  {
   "cell_type": "code",
   "execution_count": 48,
   "id": "892e4251",
   "metadata": {},
   "outputs": [
    {
     "data": {
      "text/plain": [
       "(0.87, 0.77)"
      ]
     },
     "execution_count": 48,
     "metadata": {},
     "output_type": "execute_result"
    }
   ],
   "source": [
    "from sklearn.neighbors import KNeighborsClassifier\n",
    "knc = KNeighborsClassifier(n_neighbors=3)\n",
    "modeller(knc)"
   ]
  },
  {
   "cell_type": "code",
   "execution_count": 49,
   "id": "bbbdc6bd",
   "metadata": {},
   "outputs": [
    {
     "data": {
      "text/plain": [
       "(0.83, 0.83)"
      ]
     },
     "execution_count": 49,
     "metadata": {},
     "output_type": "execute_result"
    }
   ],
   "source": [
    "from sklearn.neighbors import KNeighborsClassifier\n",
    "knc = KNeighborsClassifier(n_neighbors=5)\n",
    "modeller(knc)"
   ]
  },
  {
   "cell_type": "markdown",
   "id": "8a00cd7c",
   "metadata": {},
   "source": [
    "# Train the model with entire Data"
   ]
  },
  {
   "cell_type": "code",
   "execution_count": 50,
   "id": "8715d8c7",
   "metadata": {},
   "outputs": [],
   "source": [
    "from sklearn.neighbors import KNeighborsClassifier\n",
    "knc = KNeighborsClassifier(n_neighbors=5)\n",
    "model = knc.fit(Xnew,Y)"
   ]
  },
  {
   "cell_type": "markdown",
   "id": "ac4f2cfb",
   "metadata": {},
   "source": [
    "# Data preparation for testing set"
   ]
  },
  {
   "cell_type": "code",
   "execution_count": 51,
   "id": "72b52300",
   "metadata": {},
   "outputs": [],
   "source": [
    "W = tsd.drop(labels=[\"Loan_ID\"],axis=1)\n",
    "\n",
    "cat = []\n",
    "con = []\n",
    "for i in W.columns:\n",
    "    if(W[i].dtypes == \"object\"):\n",
    "        cat.append(i)\n",
    "    else:\n",
    "        con.append(i)\n",
    "\n",
    "X11 = pd.DataFrame(ss.transform(W[con]),columns=con)\n",
    "X21 = pd.get_dummies(W[cat])\n",
    "Xnew2 = X11.join(X21)"
   ]
  },
  {
   "cell_type": "code",
   "execution_count": 52,
   "id": "7716fc0d",
   "metadata": {},
   "outputs": [],
   "source": [
    "DF2 = pd.DataFrame(Xnew2.columns,columns=[\"Q\"]).sort_values(by=\"Q\")"
   ]
  },
  {
   "cell_type": "code",
   "execution_count": 53,
   "id": "b5a36e48",
   "metadata": {},
   "outputs": [
    {
     "data": {
      "text/plain": [
       "20"
      ]
     },
     "execution_count": 53,
     "metadata": {},
     "output_type": "execute_result"
    }
   ],
   "source": [
    "len(Xnew.columns)"
   ]
  },
  {
   "cell_type": "code",
   "execution_count": 54,
   "id": "df203038",
   "metadata": {},
   "outputs": [
    {
     "data": {
      "text/plain": [
       "20"
      ]
     },
     "execution_count": 54,
     "metadata": {},
     "output_type": "execute_result"
    }
   ],
   "source": [
    "len(Xnew2.columns)"
   ]
  },
  {
   "cell_type": "markdown",
   "id": "960a0237",
   "metadata": {},
   "source": [
    "# Predictions"
   ]
  },
  {
   "cell_type": "code",
   "execution_count": 55,
   "id": "102dcb5f",
   "metadata": {},
   "outputs": [],
   "source": [
    "pred = model.predict(Xnew2)"
   ]
  },
  {
   "cell_type": "code",
   "execution_count": 56,
   "id": "4ef11b0b",
   "metadata": {},
   "outputs": [],
   "source": [
    "Q = pd.DataFrame(tsd.Loan_ID)\n",
    "Q['Loan_Status']=pred"
   ]
  },
  {
   "cell_type": "markdown",
   "id": "16c7609f",
   "metadata": {},
   "source": [
    "# New DF with Results"
   ]
  },
  {
   "cell_type": "code",
   "execution_count": 57,
   "id": "35756fac",
   "metadata": {},
   "outputs": [],
   "source": [
    "A = tsd\n",
    "A['Loan_Status']=pred\n",
    "#A"
   ]
  },
  {
   "cell_type": "markdown",
   "id": "c50cb8d1",
   "metadata": {},
   "source": [
    "# 2. If the loans are not approved then: "
   ]
  },
  {
   "cell_type": "markdown",
   "id": "10e5bb69",
   "metadata": {},
   "source": [
    "# Find Data for the ones whose loans got disapproved"
   ]
  },
  {
   "cell_type": "code",
   "execution_count": 58,
   "id": "80eb904f",
   "metadata": {},
   "outputs": [
    {
     "data": {
      "text/html": [
       "<div>\n",
       "<style scoped>\n",
       "    .dataframe tbody tr th:only-of-type {\n",
       "        vertical-align: middle;\n",
       "    }\n",
       "\n",
       "    .dataframe tbody tr th {\n",
       "        vertical-align: top;\n",
       "    }\n",
       "\n",
       "    .dataframe thead th {\n",
       "        text-align: right;\n",
       "    }\n",
       "</style>\n",
       "<table border=\"1\" class=\"dataframe\">\n",
       "  <thead>\n",
       "    <tr style=\"text-align: right;\">\n",
       "      <th></th>\n",
       "      <th>Loan_ID</th>\n",
       "      <th>Gender</th>\n",
       "      <th>Married</th>\n",
       "      <th>Dependents</th>\n",
       "      <th>Education</th>\n",
       "      <th>Self_Employed</th>\n",
       "      <th>ApplicantIncome</th>\n",
       "      <th>CoapplicantIncome</th>\n",
       "      <th>LoanAmount</th>\n",
       "      <th>Loan_Amount_Term</th>\n",
       "      <th>Credit_History</th>\n",
       "      <th>Property_Area</th>\n",
       "      <th>Loan_Status</th>\n",
       "    </tr>\n",
       "  </thead>\n",
       "  <tbody>\n",
       "    <tr>\n",
       "      <th>4</th>\n",
       "      <td>LP001051</td>\n",
       "      <td>Male</td>\n",
       "      <td>No</td>\n",
       "      <td>0</td>\n",
       "      <td>Not Graduate</td>\n",
       "      <td>No</td>\n",
       "      <td>3276</td>\n",
       "      <td>0</td>\n",
       "      <td>78.0</td>\n",
       "      <td>360.0</td>\n",
       "      <td>1.0</td>\n",
       "      <td>Urban</td>\n",
       "      <td>N</td>\n",
       "    </tr>\n",
       "    <tr>\n",
       "      <th>7</th>\n",
       "      <td>LP001056</td>\n",
       "      <td>Male</td>\n",
       "      <td>Yes</td>\n",
       "      <td>2</td>\n",
       "      <td>Not Graduate</td>\n",
       "      <td>No</td>\n",
       "      <td>3881</td>\n",
       "      <td>0</td>\n",
       "      <td>147.0</td>\n",
       "      <td>360.0</td>\n",
       "      <td>0.0</td>\n",
       "      <td>Rural</td>\n",
       "      <td>N</td>\n",
       "    </tr>\n",
       "    <tr>\n",
       "      <th>10</th>\n",
       "      <td>LP001078</td>\n",
       "      <td>Male</td>\n",
       "      <td>No</td>\n",
       "      <td>0</td>\n",
       "      <td>Not Graduate</td>\n",
       "      <td>No</td>\n",
       "      <td>3091</td>\n",
       "      <td>0</td>\n",
       "      <td>90.0</td>\n",
       "      <td>360.0</td>\n",
       "      <td>1.0</td>\n",
       "      <td>Urban</td>\n",
       "      <td>N</td>\n",
       "    </tr>\n",
       "    <tr>\n",
       "      <th>13</th>\n",
       "      <td>LP001094</td>\n",
       "      <td>Male</td>\n",
       "      <td>Yes</td>\n",
       "      <td>2</td>\n",
       "      <td>Graduate</td>\n",
       "      <td>No</td>\n",
       "      <td>12173</td>\n",
       "      <td>0</td>\n",
       "      <td>166.0</td>\n",
       "      <td>360.0</td>\n",
       "      <td>0.0</td>\n",
       "      <td>Semiurban</td>\n",
       "      <td>N</td>\n",
       "    </tr>\n",
       "    <tr>\n",
       "      <th>19</th>\n",
       "      <td>LP001115</td>\n",
       "      <td>Male</td>\n",
       "      <td>No</td>\n",
       "      <td>0</td>\n",
       "      <td>Graduate</td>\n",
       "      <td>No</td>\n",
       "      <td>1300</td>\n",
       "      <td>3470</td>\n",
       "      <td>100.0</td>\n",
       "      <td>180.0</td>\n",
       "      <td>1.0</td>\n",
       "      <td>Semiurban</td>\n",
       "      <td>N</td>\n",
       "    </tr>\n",
       "    <tr>\n",
       "      <th>...</th>\n",
       "      <td>...</td>\n",
       "      <td>...</td>\n",
       "      <td>...</td>\n",
       "      <td>...</td>\n",
       "      <td>...</td>\n",
       "      <td>...</td>\n",
       "      <td>...</td>\n",
       "      <td>...</td>\n",
       "      <td>...</td>\n",
       "      <td>...</td>\n",
       "      <td>...</td>\n",
       "      <td>...</td>\n",
       "      <td>...</td>\n",
       "    </tr>\n",
       "    <tr>\n",
       "      <th>346</th>\n",
       "      <td>LP002879</td>\n",
       "      <td>Male</td>\n",
       "      <td>Yes</td>\n",
       "      <td>0</td>\n",
       "      <td>Graduate</td>\n",
       "      <td>No</td>\n",
       "      <td>3391</td>\n",
       "      <td>1966</td>\n",
       "      <td>133.0</td>\n",
       "      <td>360.0</td>\n",
       "      <td>0.0</td>\n",
       "      <td>Rural</td>\n",
       "      <td>N</td>\n",
       "    </tr>\n",
       "    <tr>\n",
       "      <th>347</th>\n",
       "      <td>LP002885</td>\n",
       "      <td>Male</td>\n",
       "      <td>No</td>\n",
       "      <td>0</td>\n",
       "      <td>Not Graduate</td>\n",
       "      <td>No</td>\n",
       "      <td>2868</td>\n",
       "      <td>0</td>\n",
       "      <td>70.0</td>\n",
       "      <td>360.0</td>\n",
       "      <td>1.0</td>\n",
       "      <td>Urban</td>\n",
       "      <td>N</td>\n",
       "    </tr>\n",
       "    <tr>\n",
       "      <th>354</th>\n",
       "      <td>LP002921</td>\n",
       "      <td>Male</td>\n",
       "      <td>Yes</td>\n",
       "      <td>3+</td>\n",
       "      <td>Not Graduate</td>\n",
       "      <td>No</td>\n",
       "      <td>5316</td>\n",
       "      <td>187</td>\n",
       "      <td>158.0</td>\n",
       "      <td>180.0</td>\n",
       "      <td>0.0</td>\n",
       "      <td>Semiurban</td>\n",
       "      <td>N</td>\n",
       "    </tr>\n",
       "    <tr>\n",
       "      <th>358</th>\n",
       "      <td>LP002954</td>\n",
       "      <td>Male</td>\n",
       "      <td>Yes</td>\n",
       "      <td>2</td>\n",
       "      <td>Not Graduate</td>\n",
       "      <td>No</td>\n",
       "      <td>3132</td>\n",
       "      <td>0</td>\n",
       "      <td>76.0</td>\n",
       "      <td>360.0</td>\n",
       "      <td>1.0</td>\n",
       "      <td>Rural</td>\n",
       "      <td>N</td>\n",
       "    </tr>\n",
       "    <tr>\n",
       "      <th>365</th>\n",
       "      <td>LP002986</td>\n",
       "      <td>Male</td>\n",
       "      <td>Yes</td>\n",
       "      <td>0</td>\n",
       "      <td>Graduate</td>\n",
       "      <td>No</td>\n",
       "      <td>5000</td>\n",
       "      <td>2393</td>\n",
       "      <td>158.0</td>\n",
       "      <td>360.0</td>\n",
       "      <td>1.0</td>\n",
       "      <td>Rural</td>\n",
       "      <td>N</td>\n",
       "    </tr>\n",
       "  </tbody>\n",
       "</table>\n",
       "<p>73 rows × 13 columns</p>\n",
       "</div>"
      ],
      "text/plain": [
       "      Loan_ID Gender Married Dependents     Education Self_Employed  \\\n",
       "4    LP001051   Male      No          0  Not Graduate            No   \n",
       "7    LP001056   Male     Yes          2  Not Graduate            No   \n",
       "10   LP001078   Male      No          0  Not Graduate            No   \n",
       "13   LP001094   Male     Yes          2      Graduate            No   \n",
       "19   LP001115   Male      No          0      Graduate            No   \n",
       "..        ...    ...     ...        ...           ...           ...   \n",
       "346  LP002879   Male     Yes          0      Graduate            No   \n",
       "347  LP002885   Male      No          0  Not Graduate            No   \n",
       "354  LP002921   Male     Yes         3+  Not Graduate            No   \n",
       "358  LP002954   Male     Yes          2  Not Graduate            No   \n",
       "365  LP002986   Male     Yes          0      Graduate            No   \n",
       "\n",
       "     ApplicantIncome  CoapplicantIncome  LoanAmount  Loan_Amount_Term  \\\n",
       "4               3276                  0        78.0             360.0   \n",
       "7               3881                  0       147.0             360.0   \n",
       "10              3091                  0        90.0             360.0   \n",
       "13             12173                  0       166.0             360.0   \n",
       "19              1300               3470       100.0             180.0   \n",
       "..               ...                ...         ...               ...   \n",
       "346             3391               1966       133.0             360.0   \n",
       "347             2868                  0        70.0             360.0   \n",
       "354             5316                187       158.0             180.0   \n",
       "358             3132                  0        76.0             360.0   \n",
       "365             5000               2393       158.0             360.0   \n",
       "\n",
       "     Credit_History Property_Area Loan_Status  \n",
       "4               1.0         Urban           N  \n",
       "7               0.0         Rural           N  \n",
       "10              1.0         Urban           N  \n",
       "13              0.0     Semiurban           N  \n",
       "19              1.0     Semiurban           N  \n",
       "..              ...           ...         ...  \n",
       "346             0.0         Rural           N  \n",
       "347             1.0         Urban           N  \n",
       "354             0.0     Semiurban           N  \n",
       "358             1.0         Rural           N  \n",
       "365             1.0         Rural           N  \n",
       "\n",
       "[73 rows x 13 columns]"
      ]
     },
     "execution_count": 58,
     "metadata": {},
     "output_type": "execute_result"
    }
   ],
   "source": [
    "A[A.Loan_Status==\"N\"]"
   ]
  },
  {
   "cell_type": "markdown",
   "id": "2f67e24a",
   "metadata": {},
   "source": [
    "# prediction set"
   ]
  },
  {
   "cell_type": "code",
   "execution_count": 59,
   "id": "0ae9d4c9",
   "metadata": {},
   "outputs": [
    {
     "data": {
      "text/html": [
       "<div>\n",
       "<style scoped>\n",
       "    .dataframe tbody tr th:only-of-type {\n",
       "        vertical-align: middle;\n",
       "    }\n",
       "\n",
       "    .dataframe tbody tr th {\n",
       "        vertical-align: top;\n",
       "    }\n",
       "\n",
       "    .dataframe thead th {\n",
       "        text-align: right;\n",
       "    }\n",
       "</style>\n",
       "<table border=\"1\" class=\"dataframe\">\n",
       "  <thead>\n",
       "    <tr style=\"text-align: right;\">\n",
       "      <th></th>\n",
       "      <th>Gender</th>\n",
       "      <th>Married</th>\n",
       "      <th>Dependents</th>\n",
       "      <th>Education</th>\n",
       "      <th>Self_Employed</th>\n",
       "      <th>ApplicantIncome</th>\n",
       "      <th>CoapplicantIncome</th>\n",
       "      <th>Loan_Amount_Term</th>\n",
       "      <th>Credit_History</th>\n",
       "      <th>Property_Area</th>\n",
       "      <th>Loan_Status</th>\n",
       "    </tr>\n",
       "  </thead>\n",
       "  <tbody>\n",
       "    <tr>\n",
       "      <th>0</th>\n",
       "      <td>Male</td>\n",
       "      <td>Yes</td>\n",
       "      <td>0</td>\n",
       "      <td>Graduate</td>\n",
       "      <td>No</td>\n",
       "      <td>5720</td>\n",
       "      <td>0</td>\n",
       "      <td>360.0</td>\n",
       "      <td>1.0</td>\n",
       "      <td>Urban</td>\n",
       "      <td>Y</td>\n",
       "    </tr>\n",
       "    <tr>\n",
       "      <th>1</th>\n",
       "      <td>Male</td>\n",
       "      <td>Yes</td>\n",
       "      <td>1</td>\n",
       "      <td>Graduate</td>\n",
       "      <td>No</td>\n",
       "      <td>3076</td>\n",
       "      <td>1500</td>\n",
       "      <td>360.0</td>\n",
       "      <td>1.0</td>\n",
       "      <td>Urban</td>\n",
       "      <td>Y</td>\n",
       "    </tr>\n",
       "    <tr>\n",
       "      <th>2</th>\n",
       "      <td>Male</td>\n",
       "      <td>Yes</td>\n",
       "      <td>2</td>\n",
       "      <td>Graduate</td>\n",
       "      <td>No</td>\n",
       "      <td>5000</td>\n",
       "      <td>1800</td>\n",
       "      <td>360.0</td>\n",
       "      <td>1.0</td>\n",
       "      <td>Urban</td>\n",
       "      <td>Y</td>\n",
       "    </tr>\n",
       "    <tr>\n",
       "      <th>3</th>\n",
       "      <td>Male</td>\n",
       "      <td>Yes</td>\n",
       "      <td>2</td>\n",
       "      <td>Graduate</td>\n",
       "      <td>No</td>\n",
       "      <td>2340</td>\n",
       "      <td>2546</td>\n",
       "      <td>360.0</td>\n",
       "      <td>1.0</td>\n",
       "      <td>Urban</td>\n",
       "      <td>Y</td>\n",
       "    </tr>\n",
       "    <tr>\n",
       "      <th>4</th>\n",
       "      <td>Male</td>\n",
       "      <td>No</td>\n",
       "      <td>0</td>\n",
       "      <td>Not Graduate</td>\n",
       "      <td>No</td>\n",
       "      <td>3276</td>\n",
       "      <td>0</td>\n",
       "      <td>360.0</td>\n",
       "      <td>1.0</td>\n",
       "      <td>Urban</td>\n",
       "      <td>N</td>\n",
       "    </tr>\n",
       "  </tbody>\n",
       "</table>\n",
       "</div>"
      ],
      "text/plain": [
       "  Gender Married Dependents     Education Self_Employed  ApplicantIncome  \\\n",
       "0   Male     Yes          0      Graduate            No             5720   \n",
       "1   Male     Yes          1      Graduate            No             3076   \n",
       "2   Male     Yes          2      Graduate            No             5000   \n",
       "3   Male     Yes          2      Graduate            No             2340   \n",
       "4   Male      No          0  Not Graduate            No             3276   \n",
       "\n",
       "   CoapplicantIncome  Loan_Amount_Term  Credit_History Property_Area  \\\n",
       "0                  0             360.0             1.0         Urban   \n",
       "1               1500             360.0             1.0         Urban   \n",
       "2               1800             360.0             1.0         Urban   \n",
       "3               2546             360.0             1.0         Urban   \n",
       "4                  0             360.0             1.0         Urban   \n",
       "\n",
       "  Loan_Status  \n",
       "0           Y  \n",
       "1           Y  \n",
       "2           Y  \n",
       "3           Y  \n",
       "4           N  "
      ]
     },
     "execution_count": 59,
     "metadata": {},
     "output_type": "execute_result"
    }
   ],
   "source": [
    "tsd = A.drop(labels=[\"Loan_ID\",\"LoanAmount\"],axis=1)\n",
    "tsd.head()"
   ]
  },
  {
   "cell_type": "markdown",
   "id": "aded20e0",
   "metadata": {},
   "source": [
    "# Training set"
   ]
  },
  {
   "cell_type": "code",
   "execution_count": 60,
   "id": "ec665af3",
   "metadata": {},
   "outputs": [],
   "source": [
    "X = trd.drop(labels=[\"Loan_ID\",\"LoanAmount\"],axis=1)\n",
    "Y = trd[[\"LoanAmount\"]]\n",
    "\n",
    "cat = []\n",
    "con = []\n",
    "for i in X.columns:\n",
    "    if(X[i].dtypes == \"object\"):\n",
    "        cat.append(i)\n",
    "    else:\n",
    "        con.append(i)\n",
    "ss = StandardScaler()\n",
    "X1 = pd.DataFrame(ss.fit_transform(X[con]),columns=con)\n",
    "X2 = pd.get_dummies(X[cat])\n",
    "Xnew = X1.join(X2)\n",
    "\n",
    "from sklearn.model_selection import train_test_split\n",
    "xtrain,xtest,ytrain,ytest=train_test_split(Xnew,Y,test_size=0.2,random_state=21)"
   ]
  },
  {
   "cell_type": "markdown",
   "id": "4c772bad",
   "metadata": {},
   "source": [
    "# Train the model"
   ]
  },
  {
   "cell_type": "code",
   "execution_count": 61,
   "id": "c46ecb22",
   "metadata": {},
   "outputs": [
    {
     "data": {
      "text/html": [
       "<div>\n",
       "<style scoped>\n",
       "    .dataframe tbody tr th:only-of-type {\n",
       "        vertical-align: middle;\n",
       "    }\n",
       "\n",
       "    .dataframe tbody tr th {\n",
       "        vertical-align: top;\n",
       "    }\n",
       "\n",
       "    .dataframe thead th {\n",
       "        text-align: right;\n",
       "    }\n",
       "</style>\n",
       "<table border=\"1\" class=\"dataframe\">\n",
       "  <thead>\n",
       "    <tr style=\"text-align: right;\">\n",
       "      <th></th>\n",
       "      <th>LoanAmount</th>\n",
       "    </tr>\n",
       "  </thead>\n",
       "  <tbody>\n",
       "    <tr>\n",
       "      <th>ApplicantIncome</th>\n",
       "      <td>0.442229</td>\n",
       "    </tr>\n",
       "    <tr>\n",
       "      <th>CoapplicantIncome</th>\n",
       "      <td>0.309603</td>\n",
       "    </tr>\n",
       "    <tr>\n",
       "      <th>LoanAmount</th>\n",
       "      <td>1.000000</td>\n",
       "    </tr>\n",
       "    <tr>\n",
       "      <th>Loan_Amount_Term</th>\n",
       "      <td>0.040302</td>\n",
       "    </tr>\n",
       "    <tr>\n",
       "      <th>Credit_History</th>\n",
       "      <td>0.008541</td>\n",
       "    </tr>\n",
       "  </tbody>\n",
       "</table>\n",
       "</div>"
      ],
      "text/plain": [
       "                   LoanAmount\n",
       "ApplicantIncome      0.442229\n",
       "CoapplicantIncome    0.309603\n",
       "LoanAmount           1.000000\n",
       "Loan_Amount_Term     0.040302\n",
       "Credit_History       0.008541"
      ]
     },
     "execution_count": 61,
     "metadata": {},
     "output_type": "execute_result"
    }
   ],
   "source": [
    "trd.corr()[[\"LoanAmount\"]]"
   ]
  },
  {
   "cell_type": "code",
   "execution_count": 62,
   "id": "a8ca2a9f",
   "metadata": {},
   "outputs": [],
   "source": [
    "def modeller(mo):\n",
    "    model = mo.fit(xtrain,ytrain)\n",
    "    pred_tr = model.predict(xtrain)\n",
    "    pred_ts = model.predict(xtest)\n",
    "    from sklearn.metrics import mean_absolute_error\n",
    "    tr_err = round(mean_absolute_error(ytrain,pred_tr),2)\n",
    "    ts_err = round(mean_absolute_error(ytest,pred_ts),2)\n",
    "    return tr_err,ts_err"
   ]
  },
  {
   "cell_type": "code",
   "execution_count": 63,
   "id": "d33346c1",
   "metadata": {},
   "outputs": [
    {
     "data": {
      "text/plain": [
       "(0.06, 46.13)"
      ]
     },
     "execution_count": 63,
     "metadata": {},
     "output_type": "execute_result"
    }
   ],
   "source": [
    "from sklearn.tree import DecisionTreeRegressor\n",
    "dtr = DecisionTreeRegressor()\n",
    "modeller(dtr)"
   ]
  },
  {
   "cell_type": "code",
   "execution_count": 64,
   "id": "50a2b9f4",
   "metadata": {},
   "outputs": [
    {
     "data": {
      "text/plain": [
       "(32.82, 38.6)"
      ]
     },
     "execution_count": 64,
     "metadata": {},
     "output_type": "execute_result"
    }
   ],
   "source": [
    "from sklearn.tree import DecisionTreeRegressor\n",
    "dtr = DecisionTreeRegressor(max_depth=2)\n",
    "modeller(dtr)"
   ]
  },
  {
   "cell_type": "code",
   "execution_count": 65,
   "id": "b1ad9e89",
   "metadata": {},
   "outputs": [
    {
     "data": {
      "text/plain": [
       "(29.7, 36.3)"
      ]
     },
     "execution_count": 65,
     "metadata": {},
     "output_type": "execute_result"
    }
   ],
   "source": [
    "from sklearn.tree import DecisionTreeRegressor\n",
    "dtr = DecisionTreeRegressor(max_depth=3)\n",
    "modeller(dtr)"
   ]
  },
  {
   "cell_type": "code",
   "execution_count": 66,
   "id": "2ebd6edb",
   "metadata": {},
   "outputs": [
    {
     "data": {
      "text/plain": [
       "(27.67, 38.67)"
      ]
     },
     "execution_count": 66,
     "metadata": {},
     "output_type": "execute_result"
    }
   ],
   "source": [
    "from sklearn.tree import DecisionTreeRegressor\n",
    "dtr = DecisionTreeRegressor(max_depth=4)\n",
    "modeller(dtr)"
   ]
  },
  {
   "cell_type": "code",
   "execution_count": 67,
   "id": "4a07b05a",
   "metadata": {},
   "outputs": [
    {
     "data": {
      "text/plain": [
       "(24.84, 40.54)"
      ]
     },
     "execution_count": 67,
     "metadata": {},
     "output_type": "execute_result"
    }
   ],
   "source": [
    "from sklearn.tree import DecisionTreeRegressor\n",
    "dtr = DecisionTreeRegressor(max_depth=5)\n",
    "modeller(dtr)"
   ]
  },
  {
   "cell_type": "code",
   "execution_count": 68,
   "id": "d67e729f",
   "metadata": {},
   "outputs": [
    {
     "data": {
      "text/plain": [
       "(33.15, 38.58)"
      ]
     },
     "execution_count": 68,
     "metadata": {},
     "output_type": "execute_result"
    }
   ],
   "source": [
    "from sklearn.tree import DecisionTreeRegressor\n",
    "dtr = DecisionTreeRegressor(min_samples_split=210)\n",
    "modeller(dtr)"
   ]
  },
  {
   "cell_type": "code",
   "execution_count": 69,
   "id": "431ea6b4",
   "metadata": {},
   "outputs": [
    {
     "data": {
      "text/plain": [
       "(30.93, 37.79)"
      ]
     },
     "execution_count": 69,
     "metadata": {},
     "output_type": "execute_result"
    }
   ],
   "source": [
    "from sklearn.tree import DecisionTreeRegressor\n",
    "dtr = DecisionTreeRegressor(min_samples_leaf=48)\n",
    "modeller(dtr)"
   ]
  },
  {
   "cell_type": "code",
   "execution_count": 70,
   "id": "683d23fc",
   "metadata": {},
   "outputs": [],
   "source": [
    "tr = []\n",
    "ts = []\n",
    "for i in range(2,100,1):\n",
    "    dtr = DecisionTreeRegressor(min_samples_leaf=i)\n",
    "    t1,t2 = modeller(dtr)\n",
    "    tr.append(t1)\n",
    "    ts.append(t2)"
   ]
  },
  {
   "cell_type": "code",
   "execution_count": 71,
   "id": "95c00658",
   "metadata": {},
   "outputs": [
    {
     "data": {
      "text/plain": [
       "[<matplotlib.lines.Line2D at 0x20a385aabf0>]"
      ]
     },
     "execution_count": 71,
     "metadata": {},
     "output_type": "execute_result"
    },
    {
     "data": {
      "image/png": "[encoded data removed]",
      "text/plain": [
       "<Figure size 640x480 with 1 Axes>"
      ]
     },
     "metadata": {},
     "output_type": "display_data"
    }
   ],
   "source": [
    "import matplotlib.pyplot as plt\n",
    "plt.plot(tr)\n",
    "plt.plot(ts)"
   ]
  },
  {
   "cell_type": "code",
   "execution_count": 72,
   "id": "7c95a3be",
   "metadata": {},
   "outputs": [
    {
     "data": {
      "text/plain": [
       "(11.79, 35.34)"
      ]
     },
     "execution_count": 72,
     "metadata": {},
     "output_type": "execute_result"
    }
   ],
   "source": [
    "from sklearn.ensemble import RandomForestRegressor\n",
    "rfr = RandomForestRegressor()\n",
    "modeller(rfr)"
   ]
  },
  {
   "cell_type": "code",
   "execution_count": 73,
   "id": "34200180",
   "metadata": {},
   "outputs": [
    {
     "data": {
      "text/plain": [
       "(30.98, 36.46)"
      ]
     },
     "execution_count": 73,
     "metadata": {},
     "output_type": "execute_result"
    }
   ],
   "source": [
    "from sklearn.ensemble import RandomForestRegressor\n",
    "rfr = RandomForestRegressor(n_estimators=30,max_depth=2)\n",
    "modeller(rfr)"
   ]
  },
  {
   "cell_type": "code",
   "execution_count": 74,
   "id": "dd01ef35",
   "metadata": {},
   "outputs": [
    {
     "data": {
      "text/plain": [
       "(28.21, 34.74)"
      ]
     },
     "execution_count": 74,
     "metadata": {},
     "output_type": "execute_result"
    }
   ],
   "source": [
    "from sklearn.ensemble import RandomForestRegressor\n",
    "rfr = RandomForestRegressor(n_estimators=30,max_depth=3)\n",
    "modeller(rfr)"
   ]
  },
  {
   "cell_type": "code",
   "execution_count": 75,
   "id": "4da525e1",
   "metadata": {},
   "outputs": [
    {
     "data": {
      "text/plain": [
       "(25.75, 34.45)"
      ]
     },
     "execution_count": 75,
     "metadata": {},
     "output_type": "execute_result"
    }
   ],
   "source": [
    "from sklearn.ensemble import RandomForestRegressor\n",
    "rfr = RandomForestRegressor(n_estimators=30,max_depth=4)\n",
    "modeller(rfr)"
   ]
  },
  {
   "cell_type": "code",
   "execution_count": 76,
   "id": "2cbd4f30",
   "metadata": {},
   "outputs": [
    {
     "data": {
      "text/plain": [
       "(31.59, 36.14)"
      ]
     },
     "execution_count": 76,
     "metadata": {},
     "output_type": "execute_result"
    }
   ],
   "source": [
    "from sklearn.ensemble import AdaBoostRegressor\n",
    "abr = AdaBoostRegressor(DecisionTreeRegressor(max_depth=2),n_estimators=30)\n",
    "modeller(abr)"
   ]
  },
  {
   "cell_type": "code",
   "execution_count": 77,
   "id": "997c90a5",
   "metadata": {},
   "outputs": [
    {
     "data": {
      "text/plain": [
       "(32.78, 37.44)"
      ]
     },
     "execution_count": 77,
     "metadata": {},
     "output_type": "execute_result"
    }
   ],
   "source": [
    "from sklearn.ensemble import AdaBoostRegressor\n",
    "abr = AdaBoostRegressor(DecisionTreeRegressor(max_depth=2),n_estimators=40)\n",
    "modeller(abr)"
   ]
  },
  {
   "cell_type": "code",
   "execution_count": 78,
   "id": "5d7817ac",
   "metadata": {},
   "outputs": [
    {
     "data": {
      "text/plain": [
       "(32.16, 36.87)"
      ]
     },
     "execution_count": 78,
     "metadata": {},
     "output_type": "execute_result"
    }
   ],
   "source": [
    "from sklearn.ensemble import AdaBoostRegressor\n",
    "abr = AdaBoostRegressor(DecisionTreeRegressor(max_depth=2),n_estimators=50)\n",
    "modeller(abr)"
   ]
  },
  {
   "cell_type": "code",
   "execution_count": 79,
   "id": "26335e97",
   "metadata": {},
   "outputs": [],
   "source": [
    "from sklearn.neighbors import KNeighborsRegressor\n",
    "tr = []\n",
    "ts = []\n",
    "for i in range(2,100,1):\n",
    "    from sklearn.neighbors import KNeighborsRegressor\n",
    "    knr = KNeighborsRegressor(n_neighbors=i)\n",
    "    t1,t2 = modeller(knr)\n",
    "    tr.append(t1)\n",
    "    ts.append(t2)"
   ]
  },
  {
   "cell_type": "code",
   "execution_count": 80,
   "id": "4d152960",
   "metadata": {},
   "outputs": [
    {
     "data": {
      "text/plain": [
       "[<matplotlib.lines.Line2D at 0x20a3f31dfc0>]"
      ]
     },
     "execution_count": 80,
     "metadata": {},
     "output_type": "execute_result"
    },
    {
     "data": {
      "image/png": "[encoded data removed]",
      "text/plain": [
       "<Figure size 640x480 with 1 Axes>"
      ]
     },
     "metadata": {},
     "output_type": "display_data"
    }
   ],
   "source": [
    "import matplotlib.pyplot as plt\n",
    "plt.plot(tr)\n",
    "plt.plot(ts)"
   ]
  },
  {
   "cell_type": "code",
   "execution_count": 81,
   "id": "178b4323",
   "metadata": {},
   "outputs": [
    {
     "data": {
      "text/plain": [
       "(31.73, 31.61)"
      ]
     },
     "execution_count": 81,
     "metadata": {},
     "output_type": "execute_result"
    }
   ],
   "source": [
    "from sklearn.neighbors import KNeighborsRegressor\n",
    "knr = KNeighborsRegressor(n_neighbors=17)\n",
    "modeller(knr)"
   ]
  },
  {
   "cell_type": "markdown",
   "id": "8adb0dca",
   "metadata": {},
   "source": [
    "# Final Model"
   ]
  },
  {
   "cell_type": "code",
   "execution_count": 82,
   "id": "e8d66638",
   "metadata": {},
   "outputs": [],
   "source": [
    "knr = KNeighborsRegressor(n_neighbors=17)\n",
    "model = knr.fit(Xnew,Y)"
   ]
  },
  {
   "cell_type": "markdown",
   "id": "8f0820a1",
   "metadata": {},
   "source": [
    "# Prepare prediction set"
   ]
  },
  {
   "cell_type": "code",
   "execution_count": 83,
   "id": "07cb1176",
   "metadata": {},
   "outputs": [],
   "source": [
    "X = tsd\n",
    "\n",
    "cat = []\n",
    "con = []\n",
    "for i in X.columns:\n",
    "    if(X[i].dtypes == \"object\"):\n",
    "        cat.append(i)\n",
    "    else:\n",
    "        con.append(i)\n",
    "X1 = pd.DataFrame(ss.transform(X[con]),columns=con)\n",
    "X2 = pd.get_dummies(X[cat])\n",
    "Xnew2 = X1.join(X2)"
   ]
  },
  {
   "cell_type": "code",
   "execution_count": 84,
   "id": "f1e8e73b",
   "metadata": {},
   "outputs": [
    {
     "data": {
      "text/plain": [
       "(21, 21)"
      ]
     },
     "execution_count": 84,
     "metadata": {},
     "output_type": "execute_result"
    }
   ],
   "source": [
    "len(Xnew.columns),len(Xnew2.columns)"
   ]
  },
  {
   "cell_type": "markdown",
   "id": "9a5e8fe2",
   "metadata": {},
   "source": [
    "# Predictions"
   ]
  },
  {
   "cell_type": "code",
   "execution_count": 85,
   "id": "fd9db636",
   "metadata": {},
   "outputs": [],
   "source": [
    "pred = model.predict(Xnew2)"
   ]
  },
  {
   "cell_type": "code",
   "execution_count": 86,
   "id": "c9f5da81",
   "metadata": {},
   "outputs": [],
   "source": [
    "tsd['LoanAmount_Approved_ten']=pred"
   ]
  },
  {
   "cell_type": "code",
   "execution_count": 87,
   "id": "856b2e5e",
   "metadata": {},
   "outputs": [
    {
     "data": {
      "text/html": [
       "<div>\n",
       "<style scoped>\n",
       "    .dataframe tbody tr th:only-of-type {\n",
       "        vertical-align: middle;\n",
       "    }\n",
       "\n",
       "    .dataframe tbody tr th {\n",
       "        vertical-align: top;\n",
       "    }\n",
       "\n",
       "    .dataframe thead th {\n",
       "        text-align: right;\n",
       "    }\n",
       "</style>\n",
       "<table border=\"1\" class=\"dataframe\">\n",
       "  <thead>\n",
       "    <tr style=\"text-align: right;\">\n",
       "      <th></th>\n",
       "      <th>Gender</th>\n",
       "      <th>Married</th>\n",
       "      <th>Dependents</th>\n",
       "      <th>Education</th>\n",
       "      <th>Self_Employed</th>\n",
       "      <th>ApplicantIncome</th>\n",
       "      <th>CoapplicantIncome</th>\n",
       "      <th>Loan_Amount_Term</th>\n",
       "      <th>Credit_History</th>\n",
       "      <th>Property_Area</th>\n",
       "      <th>Loan_Status</th>\n",
       "      <th>LoanAmount_Approved_ten</th>\n",
       "    </tr>\n",
       "  </thead>\n",
       "  <tbody>\n",
       "    <tr>\n",
       "      <th>0</th>\n",
       "      <td>Male</td>\n",
       "      <td>Yes</td>\n",
       "      <td>0</td>\n",
       "      <td>Graduate</td>\n",
       "      <td>No</td>\n",
       "      <td>5720</td>\n",
       "      <td>0</td>\n",
       "      <td>360.0</td>\n",
       "      <td>1.0</td>\n",
       "      <td>Urban</td>\n",
       "      <td>Y</td>\n",
       "      <td>136.224960</td>\n",
       "    </tr>\n",
       "    <tr>\n",
       "      <th>1</th>\n",
       "      <td>Male</td>\n",
       "      <td>Yes</td>\n",
       "      <td>1</td>\n",
       "      <td>Graduate</td>\n",
       "      <td>No</td>\n",
       "      <td>3076</td>\n",
       "      <td>1500</td>\n",
       "      <td>360.0</td>\n",
       "      <td>1.0</td>\n",
       "      <td>Urban</td>\n",
       "      <td>Y</td>\n",
       "      <td>111.294118</td>\n",
       "    </tr>\n",
       "    <tr>\n",
       "      <th>2</th>\n",
       "      <td>Male</td>\n",
       "      <td>Yes</td>\n",
       "      <td>2</td>\n",
       "      <td>Graduate</td>\n",
       "      <td>No</td>\n",
       "      <td>5000</td>\n",
       "      <td>1800</td>\n",
       "      <td>360.0</td>\n",
       "      <td>1.0</td>\n",
       "      <td>Urban</td>\n",
       "      <td>Y</td>\n",
       "      <td>142.411765</td>\n",
       "    </tr>\n",
       "    <tr>\n",
       "      <th>3</th>\n",
       "      <td>Male</td>\n",
       "      <td>Yes</td>\n",
       "      <td>2</td>\n",
       "      <td>Graduate</td>\n",
       "      <td>No</td>\n",
       "      <td>2340</td>\n",
       "      <td>2546</td>\n",
       "      <td>360.0</td>\n",
       "      <td>1.0</td>\n",
       "      <td>Urban</td>\n",
       "      <td>Y</td>\n",
       "      <td>124.847774</td>\n",
       "    </tr>\n",
       "    <tr>\n",
       "      <th>4</th>\n",
       "      <td>Male</td>\n",
       "      <td>No</td>\n",
       "      <td>0</td>\n",
       "      <td>Not Graduate</td>\n",
       "      <td>No</td>\n",
       "      <td>3276</td>\n",
       "      <td>0</td>\n",
       "      <td>360.0</td>\n",
       "      <td>1.0</td>\n",
       "      <td>Urban</td>\n",
       "      <td>N</td>\n",
       "      <td>98.989666</td>\n",
       "    </tr>\n",
       "    <tr>\n",
       "      <th>...</th>\n",
       "      <td>...</td>\n",
       "      <td>...</td>\n",
       "      <td>...</td>\n",
       "      <td>...</td>\n",
       "      <td>...</td>\n",
       "      <td>...</td>\n",
       "      <td>...</td>\n",
       "      <td>...</td>\n",
       "      <td>...</td>\n",
       "      <td>...</td>\n",
       "      <td>...</td>\n",
       "      <td>...</td>\n",
       "    </tr>\n",
       "    <tr>\n",
       "      <th>362</th>\n",
       "      <td>Male</td>\n",
       "      <td>Yes</td>\n",
       "      <td>3+</td>\n",
       "      <td>Not Graduate</td>\n",
       "      <td>Yes</td>\n",
       "      <td>4009</td>\n",
       "      <td>1777</td>\n",
       "      <td>360.0</td>\n",
       "      <td>1.0</td>\n",
       "      <td>Urban</td>\n",
       "      <td>Y</td>\n",
       "      <td>123.823529</td>\n",
       "    </tr>\n",
       "    <tr>\n",
       "      <th>363</th>\n",
       "      <td>Male</td>\n",
       "      <td>Yes</td>\n",
       "      <td>0</td>\n",
       "      <td>Graduate</td>\n",
       "      <td>No</td>\n",
       "      <td>4158</td>\n",
       "      <td>709</td>\n",
       "      <td>360.0</td>\n",
       "      <td>1.0</td>\n",
       "      <td>Urban</td>\n",
       "      <td>Y</td>\n",
       "      <td>117.930843</td>\n",
       "    </tr>\n",
       "    <tr>\n",
       "      <th>364</th>\n",
       "      <td>Male</td>\n",
       "      <td>No</td>\n",
       "      <td>0</td>\n",
       "      <td>Graduate</td>\n",
       "      <td>No</td>\n",
       "      <td>3250</td>\n",
       "      <td>1993</td>\n",
       "      <td>360.0</td>\n",
       "      <td>1.0</td>\n",
       "      <td>Semiurban</td>\n",
       "      <td>Y</td>\n",
       "      <td>108.764706</td>\n",
       "    </tr>\n",
       "    <tr>\n",
       "      <th>365</th>\n",
       "      <td>Male</td>\n",
       "      <td>Yes</td>\n",
       "      <td>0</td>\n",
       "      <td>Graduate</td>\n",
       "      <td>No</td>\n",
       "      <td>5000</td>\n",
       "      <td>2393</td>\n",
       "      <td>360.0</td>\n",
       "      <td>1.0</td>\n",
       "      <td>Rural</td>\n",
       "      <td>N</td>\n",
       "      <td>153.588235</td>\n",
       "    </tr>\n",
       "    <tr>\n",
       "      <th>366</th>\n",
       "      <td>Male</td>\n",
       "      <td>No</td>\n",
       "      <td>0</td>\n",
       "      <td>Graduate</td>\n",
       "      <td>Yes</td>\n",
       "      <td>9200</td>\n",
       "      <td>0</td>\n",
       "      <td>180.0</td>\n",
       "      <td>1.0</td>\n",
       "      <td>Rural</td>\n",
       "      <td>Y</td>\n",
       "      <td>133.494833</td>\n",
       "    </tr>\n",
       "  </tbody>\n",
       "</table>\n",
       "<p>367 rows × 12 columns</p>\n",
       "</div>"
      ],
      "text/plain": [
       "    Gender Married Dependents     Education Self_Employed  ApplicantIncome  \\\n",
       "0     Male     Yes          0      Graduate            No             5720   \n",
       "1     Male     Yes          1      Graduate            No             3076   \n",
       "2     Male     Yes          2      Graduate            No             5000   \n",
       "3     Male     Yes          2      Graduate            No             2340   \n",
       "4     Male      No          0  Not Graduate            No             3276   \n",
       "..     ...     ...        ...           ...           ...              ...   \n",
       "362   Male     Yes         3+  Not Graduate           Yes             4009   \n",
       "363   Male     Yes          0      Graduate            No             4158   \n",
       "364   Male      No          0      Graduate            No             3250   \n",
       "365   Male     Yes          0      Graduate            No             5000   \n",
       "366   Male      No          0      Graduate           Yes             9200   \n",
       "\n",
       "     CoapplicantIncome  Loan_Amount_Term  Credit_History Property_Area  \\\n",
       "0                    0             360.0             1.0         Urban   \n",
       "1                 1500             360.0             1.0         Urban   \n",
       "2                 1800             360.0             1.0         Urban   \n",
       "3                 2546             360.0             1.0         Urban   \n",
       "4                    0             360.0             1.0         Urban   \n",
       "..                 ...               ...             ...           ...   \n",
       "362               1777             360.0             1.0         Urban   \n",
       "363                709             360.0             1.0         Urban   \n",
       "364               1993             360.0             1.0     Semiurban   \n",
       "365               2393             360.0             1.0         Rural   \n",
       "366                  0             180.0             1.0         Rural   \n",
       "\n",
       "    Loan_Status  LoanAmount_Approved_ten  \n",
       "0             Y               136.224960  \n",
       "1             Y               111.294118  \n",
       "2             Y               142.411765  \n",
       "3             Y               124.847774  \n",
       "4             N                98.989666  \n",
       "..          ...                      ...  \n",
       "362           Y               123.823529  \n",
       "363           Y               117.930843  \n",
       "364           Y               108.764706  \n",
       "365           N               153.588235  \n",
       "366           Y               133.494833  \n",
       "\n",
       "[367 rows x 12 columns]"
      ]
     },
     "execution_count": 87,
     "metadata": {},
     "output_type": "execute_result"
    }
   ],
   "source": [
    "tsd"
   ]
  },
  {
   "cell_type": "markdown",
   "id": "ef760953",
   "metadata": {},
   "source": [
    "# Problem 2.2"
   ]
  },
  {
   "cell_type": "code",
   "execution_count": 88,
   "id": "269a94b5",
   "metadata": {},
   "outputs": [],
   "source": [
    "Q = A[(A.Loan_Status==\"N\")]\n",
    "Q.index = range(0,73)"
   ]
  },
  {
   "cell_type": "code",
   "execution_count": 89,
   "id": "248e0a2e",
   "metadata": {},
   "outputs": [],
   "source": [
    "Q['Duration']=Q.Loan_Amount_Term/12"
   ]
  },
  {
   "cell_type": "code",
   "execution_count": 90,
   "id": "0176e86c",
   "metadata": {},
   "outputs": [],
   "source": [
    "R = Q[Q.Duration<=20]\n",
    "R1 = R.drop(labels=[\"Duration\"],axis=1)"
   ]
  },
  {
   "cell_type": "code",
   "execution_count": 91,
   "id": "a1561abf",
   "metadata": {},
   "outputs": [],
   "source": [
    "A = trd[trd.Loan_Status==\"Y\"]\n",
    "A.index = range(0,398,1)\n",
    "X = A.drop(labels=[\"Loan_Amount_Term\",\"Loan_ID\",\"Loan_Status\"],axis=1)\n",
    "A['Duration']=A.Loan_Amount_Term/12\n",
    "Y = A[[\"Duration\"]]"
   ]
  },
  {
   "cell_type": "code",
   "execution_count": 92,
   "id": "bfc17e56",
   "metadata": {},
   "outputs": [],
   "source": [
    "cat = []\n",
    "con = []\n",
    "for i in X.columns:\n",
    "    if(X[i].dtypes == \"object\"):\n",
    "        cat.append(i)\n",
    "    else:\n",
    "        con.append(i)\n",
    "ss = StandardScaler()\n",
    "X1 = pd.DataFrame(ss.fit_transform(X[con]),columns=con)\n",
    "X2 = pd.get_dummies(X[cat])\n",
    "Xnew2 = X1.join(X2)"
   ]
  },
  {
   "cell_type": "code",
   "execution_count": 93,
   "id": "7d8eacc2",
   "metadata": {},
   "outputs": [],
   "source": [
    "from sklearn.model_selection import train_test_split\n",
    "xtrain,xtest,ytrain,ytest=train_test_split(Xnew2,Y,test_size=0.2,random_state=21)"
   ]
  },
  {
   "cell_type": "markdown",
   "id": "e6c91e71",
   "metadata": {},
   "source": [
    "# Model"
   ]
  },
  {
   "cell_type": "code",
   "execution_count": 94,
   "id": "d64ac557",
   "metadata": {},
   "outputs": [],
   "source": [
    "from sklearn.neighbors import KNeighborsRegressor\n",
    "tr = []\n",
    "ts = []\n",
    "for i in range(2,100,1):\n",
    "    from sklearn.neighbors import KNeighborsRegressor\n",
    "    knr = KNeighborsRegressor(n_neighbors=i)\n",
    "    t1,t2 = modeller(knr)\n",
    "    tr.append(t1)\n",
    "    ts.append(t2)"
   ]
  },
  {
   "cell_type": "code",
   "execution_count": 95,
   "id": "8b111b59",
   "metadata": {},
   "outputs": [
    {
     "data": {
      "text/plain": [
       "[<matplotlib.lines.Line2D at 0x20a3f3ae170>]"
      ]
     },
     "execution_count": 95,
     "metadata": {},
     "output_type": "execute_result"
    },
    {
     "data": {
      "image/png": "[encoded data removed]",
      "text/plain": [
       "<Figure size 640x480 with 1 Axes>"
      ]
     },
     "metadata": {},
     "output_type": "display_data"
    }
   ],
   "source": [
    "plt.plot(tr)\n",
    "plt.plot(ts)"
   ]
  },
  {
   "cell_type": "code",
   "execution_count": 96,
   "id": "94e99f84",
   "metadata": {},
   "outputs": [
    {
     "data": {
      "text/plain": [
       "(1.05, 2.21)"
      ]
     },
     "execution_count": 96,
     "metadata": {},
     "output_type": "execute_result"
    }
   ],
   "source": [
    "from sklearn.neighbors import KNeighborsRegressor\n",
    "knr = KNeighborsRegressor(n_neighbors=2)\n",
    "modeller(knr)"
   ]
  },
  {
   "cell_type": "code",
   "execution_count": 97,
   "id": "d03e8590",
   "metadata": {},
   "outputs": [
    {
     "data": {
      "text/plain": [
       "(1.45, 2.19)"
      ]
     },
     "execution_count": 97,
     "metadata": {},
     "output_type": "execute_result"
    }
   ],
   "source": [
    "from sklearn.neighbors import KNeighborsRegressor\n",
    "knr = KNeighborsRegressor(n_neighbors=3)\n",
    "modeller(knr)"
   ]
  },
  {
   "cell_type": "code",
   "execution_count": 98,
   "id": "f40d443e",
   "metadata": {},
   "outputs": [
    {
     "data": {
      "text/plain": [
       "(1.59, 2.06)"
      ]
     },
     "execution_count": 98,
     "metadata": {},
     "output_type": "execute_result"
    }
   ],
   "source": [
    "from sklearn.neighbors import KNeighborsRegressor\n",
    "knr = KNeighborsRegressor(n_neighbors=4)\n",
    "modeller(knr)"
   ]
  },
  {
   "cell_type": "code",
   "execution_count": 99,
   "id": "40704992",
   "metadata": {},
   "outputs": [
    {
     "data": {
      "text/plain": [
       "(1.63, 1.96)"
      ]
     },
     "execution_count": 99,
     "metadata": {},
     "output_type": "execute_result"
    }
   ],
   "source": [
    "from sklearn.neighbors import KNeighborsRegressor\n",
    "knr = KNeighborsRegressor(n_neighbors=5)\n",
    "modeller(knr)"
   ]
  },
  {
   "cell_type": "code",
   "execution_count": 100,
   "id": "062b4dd5",
   "metadata": {},
   "outputs": [
    {
     "data": {
      "text/plain": [
       "(1.75, 2.02)"
      ]
     },
     "execution_count": 100,
     "metadata": {},
     "output_type": "execute_result"
    }
   ],
   "source": [
    "from sklearn.neighbors import KNeighborsRegressor\n",
    "knr = KNeighborsRegressor(n_neighbors=6)\n",
    "modeller(knr)"
   ]
  },
  {
   "cell_type": "markdown",
   "id": "a89a175d",
   "metadata": {},
   "source": [
    "# Final Model"
   ]
  },
  {
   "cell_type": "code",
   "execution_count": 101,
   "id": "de301182",
   "metadata": {},
   "outputs": [],
   "source": [
    "knr = KNeighborsRegressor(n_neighbors=5)\n",
    "model = knr.fit(Xnew2,Y)"
   ]
  },
  {
   "cell_type": "markdown",
   "id": "f76326af",
   "metadata": {},
   "source": [
    "# Data"
   ]
  },
  {
   "cell_type": "code",
   "execution_count": 102,
   "id": "45c8a7a4",
   "metadata": {},
   "outputs": [],
   "source": [
    "R1.index=range(0,7)"
   ]
  },
  {
   "cell_type": "code",
   "execution_count": 103,
   "id": "5e09248b",
   "metadata": {},
   "outputs": [],
   "source": [
    "X = R1.drop(labels=[\"Loan_Amount_Term\",\"Loan_ID\",\"Loan_Status\"],axis=1)\n",
    "\n",
    "cat = []\n",
    "con = []\n",
    "for i in X.columns:\n",
    "    if(X[i].dtypes == \"object\"):\n",
    "        cat.append(i)\n",
    "    else:\n",
    "        con.append(i)\n",
    "\n",
    "X1 = pd.DataFrame(ss.transform(X[con]),columns=con)\n",
    "X2 = pd.get_dummies(X[cat])\n",
    "Xnew21 = X1.join(X2)"
   ]
  },
  {
   "cell_type": "code",
   "execution_count": 104,
   "id": "45b58af1",
   "metadata": {},
   "outputs": [],
   "source": [
    "#Xnew21[Xnew2.columns]"
   ]
  },
  {
   "cell_type": "code",
   "execution_count": 105,
   "id": "948bfd8d",
   "metadata": {},
   "outputs": [],
   "source": [
    "W = ['Dependents_1', 'Property_Area_Rural', 'Gender_Female', 'Dependents_2']\n",
    "for i in W:\n",
    "    Xnew21[i]=0"
   ]
  },
  {
   "cell_type": "code",
   "execution_count": null,
   "id": "28eca8e0",
   "metadata": {},
   "outputs": [],
   "source": []
  }
 ],
 "metadata": {
  "kernelspec": {
   "display_name": "Python 3 (ipykernel)",
   "language": "python",
   "name": "python3"
  },
  "language_info": {
   "codemirror_mode": {
    "name": "ipython",
    "version": 3
   },
   "file_extension": ".py",
   "mimetype": "text/x-python",
   "name": "python",
   "nbconvert_exporter": "python",
   "pygments_lexer": "ipython3",
   "version": "3.10.9"
  }
 },
 "nbformat": 4,
 "nbformat_minor": 5
}
